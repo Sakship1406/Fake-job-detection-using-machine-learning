{
  "cells": [
    {
      "cell_type": "code",
      "source": [
        "pip install --upgrade scikit-learn"
      ],
      "metadata": {
        "id": "vj_30Q-Mdu__"
      },
      "execution_count": null,
      "outputs": []
    },
    {
      "cell_type": "code",
      "source": [
        "import re\n",
        "import string\n",
        "import numpy as np\n",
        "import pandas as pd\n",
        "import random\n",
        "import matplotlib.pyplot as plt\n",
        "import seaborn as sns\n",
        "from sklearn.feature_extraction.text import TfidfVectorizer,CountVectorizer # notice the spelling with the f before Vectorizer\n",
        "from sklearn.naive_bayes import MultinomialNB # notice the Caps on the M\n",
        "from sklearn.pipeline import make_pipeline\n",
        "from sklearn.model_selection import train_test_split\n",
        "from sklearn.base import TransformerMixin\n",
        "from sklearn.metrics import accuracy_score, classification_report, confusion_matrix\n",
        "from wordcloud import WordCloud\n",
        "import spacy\n",
        "from sklearn.feature_extraction import _stop_words\n",
        "from spacy.lang.en import English"
      ],
      "metadata": {
        "id": "iUuGgVrA6s-E"
      },
      "execution_count": null,
      "outputs": []
    },
    {
      "cell_type": "code",
      "source": [
        "\n",
        "df = pd.read_csv('/fake_job_postings.csv')\n"
      ],
      "metadata": {
        "id": "keyu3C7g7eLc"
      },
      "execution_count": null,
      "outputs": []
    },
    {
      "cell_type": "code",
      "source": [
        "df.head()"
      ],
      "metadata": {
        "id": "BGAvgLeZ7rRE"
      },
      "execution_count": null,
      "outputs": []
    },
    {
      "cell_type": "code",
      "source": [
        "df.shape"
      ],
      "metadata": {
        "id": "-Cxh6rr17t0T"
      },
      "execution_count": null,
      "outputs": []
    },
    {
      "cell_type": "code",
      "source": [
        "df.isnull().sum()"
      ],
      "metadata": {
        "id": "A9X5hm8572Ar"
      },
      "execution_count": null,
      "outputs": []
    },
    {
      "cell_type": "code",
      "source": [
        "columns=['job_id','telecommuting','has_company_logo','has_questions','salary_range','employment_type']\n",
        "for colu in columns:\n",
        "    del df[colu]"
      ],
      "metadata": {
        "id": "qJcpkKkQ731D"
      },
      "execution_count": null,
      "outputs": []
    },
    {
      "cell_type": "code",
      "source": [
        "df.head()"
      ],
      "metadata": {
        "id": "FuBRjMAj8FLs"
      },
      "execution_count": null,
      "outputs": []
    },
    {
      "cell_type": "code",
      "source": [
        "df.fillna('',inplace=True)"
      ],
      "metadata": {
        "id": "NrOj7ItS8FfD"
      },
      "execution_count": null,
      "outputs": []
    },
    {
      "cell_type": "code",
      "source": [
        "plt.figure(figsize=(15,5))\n",
        "sns.countplot(y='fraudulent',data=df)\n",
        "plt.show()"
      ],
      "metadata": {
        "id": "uuv90kVc8TXM"
      },
      "execution_count": null,
      "outputs": []
    },
    {
      "cell_type": "code",
      "source": [
        "df.groupby('fraudulent')['fraudulent'].count()"
      ],
      "metadata": {
        "id": "ZeCmWeib8VW7"
      },
      "execution_count": null,
      "outputs": []
    },
    {
      "cell_type": "code",
      "source": [
        "exp=dict(df.required_experience.value_counts())\n",
        "del exp['']\n"
      ],
      "metadata": {
        "id": "v2JRExCh8aqr"
      },
      "execution_count": null,
      "outputs": []
    },
    {
      "cell_type": "code",
      "source": [
        "exp"
      ],
      "metadata": {
        "id": "oiNgKN0n8hHr"
      },
      "execution_count": null,
      "outputs": []
    },
    {
      "cell_type": "code",
      "source": [
        "\n",
        "plt.figure(figsize=(10,5))\n",
        "sns.set_theme(style='whitegrid')\n",
        "plt.bar(exp.keys(),exp.values())\n",
        "plt.title('Number of jobs with experience',size=20)\n",
        "plt.xlabel('Experience',size=10)\n",
        "plt.ylabel('Number of Jobs',size=10)\n",
        "plt.xticks(rotation=30)\n",
        "plt.show()"
      ],
      "metadata": {
        "id": "jvKkrT7S8kCj"
      },
      "execution_count": null,
      "outputs": []
    },
    {
      "cell_type": "code",
      "source": [
        "\n",
        "def split(location):\n",
        "    l =location.split(',')\n",
        "    return l[0]\n",
        "df['country']=df.location.apply(split)"
      ],
      "metadata": {
        "id": "DlNNuiEf8mOL"
      },
      "execution_count": null,
      "outputs": []
    },
    {
      "cell_type": "code",
      "source": [
        "df.head()"
      ],
      "metadata": {
        "id": "Zt7CfRB_8t6E"
      },
      "execution_count": null,
      "outputs": []
    },
    {
      "cell_type": "code",
      "source": [
        "countr=dict(df.country.value_counts()[:14])\n",
        "del countr['']\n",
        "countr"
      ],
      "metadata": {
        "id": "47ipZ1X88w5b"
      },
      "execution_count": null,
      "outputs": []
    },
    {
      "cell_type": "code",
      "source": [
        "\n",
        "plt.figure(figsize=(8,6))\n",
        "plt.title('Country-wise Job Posting',size=20)\n",
        "plt.bar(countr.keys(),countr.values())\n",
        "plt.ylabel('No. of Jobs',size=10)\n",
        "plt.xlabel('Countries',size=10)\n"
      ],
      "metadata": {
        "id": "8QJYIjM78zDc"
      },
      "execution_count": null,
      "outputs": []
    },
    {
      "cell_type": "code",
      "source": [
        "edu =dict(df.required_education.value_counts()[:7])\n",
        "del edu['']\n",
        "edu"
      ],
      "metadata": {
        "id": "miKmzoo982mz"
      },
      "execution_count": null,
      "outputs": []
    },
    {
      "cell_type": "code",
      "source": [
        "plt.figure(figsize=(15,6))\n",
        "plt.title('Job Posting based on Education',size=20)\n",
        "plt.bar(edu.keys(),edu.values())\n",
        "plt.ylabel('No of Jobs',size=10)\n",
        "plt.xlabel('Education',size=10)"
      ],
      "metadata": {
        "id": "kZxttIpW85cs"
      },
      "execution_count": null,
      "outputs": []
    },
    {
      "cell_type": "code",
      "source": [
        "print(df[df.fraudulent==0].title.value_counts()[:10])\n",
        "\n"
      ],
      "metadata": {
        "id": "5uUK26e-8-Qs"
      },
      "execution_count": null,
      "outputs": []
    },
    {
      "cell_type": "code",
      "source": [
        "print(df[df.fraudulent==1].title.value_counts()[:10])\n",
        "\n"
      ],
      "metadata": {
        "id": "586nD5WQ9Aqt"
      },
      "execution_count": null,
      "outputs": []
    },
    {
      "cell_type": "code",
      "source": [
        "df['text']=df['title']+' '+df['company_profile']+' '+df['description']+' '+df['requirements']+' '+df['benefits']\n",
        "del df['title']\n",
        "del df['location']\n",
        "del df['department']\n",
        "del df['company_profile']\n",
        "del df['description']\n",
        "del df['requirements']\n",
        "del df['benefits']\n",
        "del df['required_experience']\n",
        "del df['required_education']\n",
        "del df['industry']\n",
        "del df['function']\n",
        "del df['country']"
      ],
      "metadata": {
        "id": "T-acW2HM9D8b"
      },
      "execution_count": null,
      "outputs": []
    },
    {
      "cell_type": "code",
      "source": [
        "df.head()"
      ],
      "metadata": {
        "id": "1NKq2xeuSbce"
      },
      "execution_count": null,
      "outputs": []
    },
    {
      "cell_type": "code",
      "source": [
        "fraudjobs_text=df[df.fraudulent==1].text\n",
        "realjobs_text=df[df.fraudulent==0].text\n"
      ],
      "metadata": {
        "id": "0_Iquzjt9PuT"
      },
      "execution_count": null,
      "outputs": []
    },
    {
      "cell_type": "code",
      "source": [
        "STOPWORDS = spacy.lang.en.stop_words.STOP_WORDS\n",
        "plt.figure(figsize = (16,14))\n",
        "wc = WordCloud(min_font_size = 3, max_words = 3000 ,width = 1600, height =  800, stopwords =STOPWORDS).generate(str(\" \".join(fraudjobs_text)))\n",
        "plt.imshow(wc,interpolation = 'bilinear')\n"
      ],
      "metadata": {
        "id": "z2U4Xwo59RgT"
      },
      "execution_count": null,
      "outputs": []
    },
    {
      "cell_type": "code",
      "source": [
        "STOPWORDS = spacy.lang.en.stop_words.STOP_WORDS\n",
        "plt.figure(figsize = (16,14))\n",
        "wc = WordCloud(min_font_size = 3, max_words = 3000 ,width = 1600, height =  800, stopwords =STOPWORDS).generate(str(\" \".join(realjobs_text)))\n",
        "plt.imshow(wc,interpolation = 'bilinear')"
      ],
      "metadata": {
        "id": "ij4m8iMG9VPU"
      },
      "execution_count": null,
      "outputs": []
    },
    {
      "cell_type": "code",
      "source": [
        "punctuation = string.punctuation\n",
        "\n",
        "nlp = spacy.load(\"en_core_web_sm\")\n",
        "stop_words =spacy.lang.en.stop_words.STOP_WORDS\n",
        "\n",
        "parser = English()\n",
        "\n",
        "def spacy_tokenizer(sentence):\n",
        "    mytokens = parser(sentence)\n",
        "    mytokens =[ word.lemma_.lower().strip() if word.lemma_ != \"-PRON-\" else word.lower_ for word in mytokens ]\n",
        "\n",
        "    mytokens = [ word for word in mytokens if word not in stop_words and word not in punctuations ]\n",
        "\n",
        "    return mytokens\n",
        "\n",
        "class predictors(TransformerMixin):\n",
        "    def transform(self, X , **transform_params):\n",
        "\n",
        "        return[clean_text(text) for text in X]\n",
        "\n",
        "    def fit(self, X, y=None, **fit_params):\n",
        "        return self\n",
        "\n",
        "    def get_params(self, deep=True):\n",
        "        return {}\n",
        "\n",
        "def clean_text(text):\n",
        "    return text.strip().lower()\n"
      ],
      "metadata": {
        "id": "cHsUaPix9hT_"
      },
      "execution_count": null,
      "outputs": []
    },
    {
      "cell_type": "code",
      "source": [
        "df['text']= df['text'].apply(clean_text)"
      ],
      "metadata": {
        "id": "KI6ZBf2i9oTg"
      },
      "execution_count": null,
      "outputs": []
    },
    {
      "cell_type": "code",
      "source": [
        "cv = TfidfVectorizer(max_features = 100)\n",
        "x = cv.fit_transform(df['text'])\n",
        "df1 = pd.DataFrame(x.toarray(), columns=cv.get_feature_names_out())\n",
        "df.drop([\"text\"],axis=1, inplace =True)\n",
        "main_df = pd.concat([df1,df], axis =1)\n"
      ],
      "metadata": {
        "id": "P4lG1zvD9vzx"
      },
      "execution_count": null,
      "outputs": []
    },
    {
      "cell_type": "code",
      "source": [
        "main_df.head()"
      ],
      "metadata": {
        "id": "omKkO_wr9yDH"
      },
      "execution_count": null,
      "outputs": []
    },
    {
      "cell_type": "code",
      "source": [
        "\n",
        "Y = main_df.iloc[:,-1]\n",
        "X = main_df.iloc[:,:-1]\n",
        "\n",
        "X_train, X_test, y_train, y_test = train_test_split(X,Y,test_size=0.3)\n",
        "\n",
        "print(X_train.shape)\n",
        "print(y_train.shape)\n",
        "print(X_train.shape)\n",
        "print(y_test.shape)\n"
      ],
      "metadata": {
        "id": "nDCq8kSc93oP"
      },
      "execution_count": null,
      "outputs": []
    },
    {
      "cell_type": "code",
      "source": [
        "from sklearn.ensemble import RandomForestClassifier\n",
        "rfc = RandomForestClassifier(n_jobs=3,oob_score=True,n_estimators=100,criterion=\"entropy\")\n",
        "model=rfc.fit(X_train,y_train)"
      ],
      "metadata": {
        "id": "hWJKmjB78nMk"
      },
      "execution_count": null,
      "outputs": []
    },
    {
      "cell_type": "code",
      "source": [
        "print(X_test)"
      ],
      "metadata": {
        "id": "vN-JxbrG9xa4"
      },
      "execution_count": null,
      "outputs": []
    },
    {
      "cell_type": "code",
      "source": [
        "pred = rfc.predict(X_test)\n",
        "score = accuracy_score(y_test,pred)\n",
        "score"
      ],
      "metadata": {
        "id": "9N3IAqxm9-sf"
      },
      "execution_count": null,
      "outputs": []
    },
    {
      "cell_type": "code",
      "source": [
        "print(\"Classification Report\\n\")\n",
        "print(classification_report(y_test,pred))\n",
        "print(\"Confusion Matrix\\n\")\n",
        "print(confusion_matrix(y_test,pred))\n"
      ],
      "metadata": {
        "id": "3un5m5CU-pfR"
      },
      "execution_count": null,
      "outputs": []
    },
    {
      "cell_type": "code",
      "source": [
        "import matplotlib.pyplot as plt\n",
        "%matplotlib inline\n",
        "from sklearn.tree import DecisionTreeClassifier\n",
        "from sklearn.model_selection import train_test_split\n",
        "from sklearn import metrics\n",
        "from sklearn import tree"
      ],
      "metadata": {
        "id": "XU2HkGhz_lqe"
      },
      "execution_count": null,
      "outputs": []
    },
    {
      "cell_type": "code",
      "source": [
        "clf = tree.DecisionTreeClassifier(random_state=0)\n",
        "clf = clf.fit(X_test,y_test)"
      ],
      "metadata": {
        "id": "C3oHH-axC6QQ"
      },
      "execution_count": null,
      "outputs": []
    },
    {
      "cell_type": "code",
      "source": [
        "plt.figure(figsize=(50,45))\n",
        "tree.plot_tree(clf,filled=True)"
      ],
      "metadata": {
        "id": "kmEu7P7TDGU1"
      },
      "execution_count": null,
      "outputs": []
    }
  ],
  "metadata": {
    "colab": {
      "provenance": []
    },
    "kernelspec": {
      "display_name": "Python 3",
      "name": "python3"
    },
    "language_info": {
      "name": "python"
    }
  },
  "nbformat": 4,
  "nbformat_minor": 0
}